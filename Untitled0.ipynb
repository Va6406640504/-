{
  "nbformat": 4,
  "nbformat_minor": 0,
  "metadata": {
    "colab": {
      "provenance": []
    },
    "kernelspec": {
      "name": "python3",
      "display_name": "Python 3"
    },
    "language_info": {
      "name": "python"
    }
  },
  "cells": [
    {
      "cell_type": "code",
      "source": [
        "import pandas as pd\n",
        "\n",
        "A = np.array([[1, 2, 3], [4, 5, 6], ['A', 'B', 'C'], ['D', 'E', 'F'], [True, False, True], [False, True, False]])\n",
        "A.shape = (6, 3)\n",
        "\n",
        "print(df[:3])\n",
        "print(df[-3:])\n",
        "\n",
        "df = pd.DataFrame(A)\n",
        "df.to_csv('data.csv', index=False)"
      ],
      "metadata": {
        "colab": {
          "base_uri": "https://localhost:8080/"
        },
        "id": "BBCWsynRBSnV",
        "outputId": "bd1921c3-766d-46be-9d35-2f9731de93d9"
      },
      "execution_count": 48,
      "outputs": [
        {
          "output_type": "stream",
          "name": "stdout",
          "text": [
            "   0  1  2\n",
            "0  1  2  3\n",
            "1  4  5  6\n",
            "2  A  B  C\n",
            "       0      1      2\n",
            "3      D      E      F\n",
            "4   True  False   True\n",
            "5  False   True  False\n"
          ]
        }
      ]
    }
  ]
}